{
 "cells": [
  {
   "cell_type": "code",
   "execution_count": null,
   "id": "18da98d9-67a6-44a0-ab4f-11e7345ffea3",
   "metadata": {},
   "outputs": [],
   "source": [
    "import pandas as pd\n",
    "import numpy as np\n",
    "import matplotlib.pyplot as plt\n",
    "%matplotlib inline\n",
    "import seaborn as sns\n",
    "import matplotlib"
   ]
  },
  {
   "cell_type": "code",
   "execution_count": null,
   "id": "a68b9d29-0625-4340-b050-51759f147390",
   "metadata": {},
   "outputs": [],
   "source": [
    "matplotlib.rcParams['figure.figsize'] = (12,6)\n",
    "pd.set_option('display.max_columns', None)"
   ]
  },
  {
   "cell_type": "code",
   "execution_count": null,
   "id": "e01ec1e9-a39f-4143-8d20-8f77f9eb33bc",
   "metadata": {},
   "outputs": [],
   "source": [
    "data = pd.read_csv('processed_data.csv')"
   ]
  },
  {
   "cell_type": "markdown",
   "id": "60367bd7-7639-4e8f-be35-2dc1ef349c5a",
   "metadata": {},
   "source": [
    "# Exploratory Data Analysis"
   ]
  },
  {
   "cell_type": "code",
   "execution_count": null,
   "id": "6d1fb739-c0ee-4949-9910-efdb4597a46e",
   "metadata": {},
   "outputs": [],
   "source": [
    "data.sample(1)"
   ]
  },
  {
   "cell_type": "markdown",
   "id": "5a8ec708-aad4-4915-90fd-61b36d46c808",
   "metadata": {
    "tags": []
   },
   "source": [
    "#### Exploring Case status \n",
    "Bar plot of data grouped by CERTIFIED and DENIED"
   ]
  },
  {
   "cell_type": "code",
   "execution_count": null,
   "id": "7fe92585-2b43-4686-9e97-105966bff3ec",
   "metadata": {},
   "outputs": [],
   "source": [
    "data.CASE_STATUS.unique()"
   ]
  },
  {
   "cell_type": "code",
   "execution_count": null,
   "id": "1a4c89ef-c364-419d-b2fa-855c2a51f187",
   "metadata": {
    "tags": []
   },
   "outputs": [],
   "source": [
    "sns.set_theme(style='darkgrid')\n",
    "case_statue_gp = data.groupby(by='CASE_STATUS').size()\n",
    "ax = sns.barplot(x=case_statue_gp.index,y=case_statue_gp,)\n",
    "plt.title(\"Groupyby Case Status\")\n",
    "ax.bar_label(ax.containers[0])\n",
    "plt.show()"
   ]
  },
  {
   "cell_type": "markdown",
   "id": "77e3127c-14dc-4f5f-b416-3bdc42bf9f19",
   "metadata": {},
   "source": [
    "We can clearly see that data is fully biased toward CERTIFIED data."
   ]
  },
  {
   "cell_type": "code",
   "execution_count": null,
   "id": "4066ffb0-e6c3-4981-a5c3-aab699e660a9",
   "metadata": {},
   "outputs": [],
   "source": [
    "data.VISA_CLASS.unique()"
   ]
  },
  {
   "cell_type": "markdown",
   "id": "3d13fd9a-3ad8-4135-a204-63d06fbd328f",
   "metadata": {},
   "source": [
    "we can see that there are 4 types of visa class."
   ]
  },
  {
   "cell_type": "code",
   "execution_count": null,
   "id": "52b66390-1744-43ef-ac5c-838bcf2c4fc5",
   "metadata": {},
   "outputs": [],
   "source": [
    "visa_class = data.groupby(by='VISA_CLASS',dropna=True).size()\n",
    "ax= sns.barplot(x=visa_class.index,y=visa_class)\n",
    "plt.title(\"Visa Class Distribution\")\n",
    "ax.bar_label(ax.containers[0])\n",
    "plt.show()"
   ]
  },
  {
   "cell_type": "markdown",
   "id": "e2f77164-b6a5-4ccf-8aab-de886b5a157a",
   "metadata": {},
   "source": [
    "H1B visa is clearly dominating the Visa Approval "
   ]
  },
  {
   "cell_type": "code",
   "execution_count": null,
   "id": "3ab4876c-d879-466b-8808-1736bc19f482",
   "metadata": {},
   "outputs": [],
   "source": [
    "data.FULL_TIME_POSITION.value_counts()"
   ]
  },
  {
   "cell_type": "code",
   "execution_count": null,
   "id": "2a4e9027-005b-4828-94d2-ac3d5432844a",
   "metadata": {},
   "outputs": [],
   "source": [
    "# Create a pieplot\n",
    "# plt.rcParams.update({'font.size': 14})\n",
    "fig,a = plt.subplots()\n",
    "plt.pie(data.FULL_TIME_POSITION.value_counts(),labels=['Yes','No'],autopct=\"%0.1f\",frame=True,explode=[0.0,0.02])\n",
    "a.xaxis.set_visible(False)\n",
    "a.yaxis.set_visible(False)\n",
    "my_circle=plt.Circle( (0,0), 0.2, color='black')\n",
    "p=plt.gcf()\n",
    "p.gca().add_artist(my_circle)\n",
    "plt.title('Ratio of Full Time Position')\n",
    "# plt.rcParams.update({'font.size': 10})\n",
    "plt.show()"
   ]
  },
  {
   "cell_type": "markdown",
   "id": "9fc181d2-e88f-40d8-9d03-86e15c6e3b0f",
   "metadata": {},
   "source": [
    "Ratio of Full Time Position of Employe"
   ]
  },
  {
   "cell_type": "code",
   "execution_count": null,
   "id": "663a3399-f7e3-4196-962e-811d62f663cf",
   "metadata": {},
   "outputs": [],
   "source": [
    "data.groupby(by='CASE_STATUS').AGENT_REPRESENTING_EMPLOYER.value_counts(ascending=True)"
   ]
  },
  {
   "cell_type": "code",
   "execution_count": null,
   "id": "ceff47ee-78a4-4017-95c2-0acbb89320f2",
   "metadata": {},
   "outputs": [],
   "source": [
    "agent_vs_status = data.groupby(by='CASE_STATUS').AGENT_REPRESENTING_EMPLOYER.value_counts()\n",
    "agent_vs_status.unstack().plot(kind='barh')\n",
    "plt.title('AGENT_REPRESENTING_EMPLOYER vs CASE_STATUS')\n",
    "plt.show()"
   ]
  },
  {
   "cell_type": "markdown",
   "id": "c9ee1930-8b0b-40c6-ae16-5005a2dd2c2d",
   "metadata": {},
   "source": [
    "We can see from the figure that there is higher ratio of agent representing employer for all the case status. "
   ]
  },
  {
   "cell_type": "code",
   "execution_count": null,
   "id": "9d253773-b579-42af-9684-bbd0f1c71312",
   "metadata": {},
   "outputs": [],
   "source": [
    "emp_country = data.groupby(by='EMPLOYER_COUNTRY').CASE_STATUS.value_counts()\n",
    "fig,a = plt.subplots(figsize=(10,5))\n",
    "ax = emp_country.unstack().plot(kind='barh',ax=a)\n",
    "plt.title('Visa Case Status on Emp. Countries')\n",
    "ax.bar_label(ax.containers[0])\n",
    "ax.bar_label(ax.containers[1])\n",
    "plt.show()"
   ]
  },
  {
   "cell_type": "markdown",
   "id": "45876dfc-a3b3-45d9-a88f-c313c0b7cda1",
   "metadata": {},
   "source": [
    "In the case of Employer Country data is data is totally biased to the USA country."
   ]
  },
  {
   "cell_type": "code",
   "execution_count": null,
   "id": "b2677f15-0f9f-43ca-91a8-4d300b14ce48",
   "metadata": {
    "tags": []
   },
   "outputs": [],
   "source": [
    "# So, Lets see the ratio rather than actual data.\n",
    "# emp_country = data.groupby(by='EMPLOYER_COUNTRY').CASE_STATUS.value_counts(normalize=True)\n",
    "# fig,a = plt.subplots(figsize=(10,5))\n",
    "# emp_country.unstack().plot(kind='barh',ax=a)\n",
    "# plt.title('Ratio of Visa Case Status on Countries')\n",
    "# plt.show()"
   ]
  },
  {
   "cell_type": "code",
   "execution_count": null,
   "id": "260b3d9f-9878-498a-9b2d-c2ad12f14028",
   "metadata": {},
   "outputs": [],
   "source": [
    "h1b_dependent = data.groupby(by='H-1B_DEPENDENT').CASE_STATUS.value_counts()\n",
    "ax = h1b_dependent.unstack().plot(kind='bar')\n",
    "plt.title('Dependency on H1-B visa')\n",
    "ax.bar_label(ax.containers[1])\n",
    "ax.bar_label(ax.containers[0])\n",
    "plt.show()"
   ]
  },
  {
   "cell_type": "markdown",
   "id": "be164029-55ec-43d2-905b-6ea68cf35f26",
   "metadata": {},
   "source": [
    "This shows that if an employer is categorized to be H1-B dependent they have less chances to get denied or certified."
   ]
  },
  {
   "cell_type": "code",
   "execution_count": null,
   "id": "700d2f9f-c970-4b39-a222-40049dbec29f",
   "metadata": {},
   "outputs": [],
   "source": [
    "ax = data.groupby(by='H-1B_DEPENDENT').CASE_STATUS.value_counts().unstack().loc[:,'CERTIFIED'].plot(kind='bar')\n",
    "plt.title('Certified H-1B_Dependent')\n",
    "ax.bar_label(ax.containers[0])\n",
    "plt.show()"
   ]
  },
  {
   "cell_type": "code",
   "execution_count": null,
   "id": "a82c9f48-1cfe-44dd-99c5-4a354dec9c29",
   "metadata": {},
   "outputs": [],
   "source": [
    "data.SECONDARY_ENTITY_1.unique()"
   ]
  },
  {
   "cell_type": "code",
   "execution_count": null,
   "id": "8a8dba6e-12d0-42fa-8e50-b385b2645e12",
   "metadata": {},
   "outputs": [],
   "source": [
    "data.groupby(by='SECONDARY_ENTITY_1').CASE_STATUS.value_counts().plot(kind='barh')\n",
    "plt.title('Status VS Secondary Location')\n",
    "plt.show()"
   ]
  },
  {
   "cell_type": "markdown",
   "id": "7e5931de-a428-4178-ba94-56fff519409a",
   "metadata": {},
   "source": [
    "We can see if a person has secondary entity then they will have less chances to get CERTIFIED"
   ]
  },
  {
   "cell_type": "code",
   "execution_count": null,
   "id": "befd1447-04b0-4a04-b411-297d47a0eec6",
   "metadata": {},
   "outputs": [],
   "source": [
    "data.SECONDARY_ENTITY_1.isna().value_counts()"
   ]
  },
  {
   "cell_type": "code",
   "execution_count": null,
   "id": "f393fee9-9145-428a-80b5-017f23b64f44",
   "metadata": {},
   "outputs": [],
   "source": [
    "data.SECONDARY_ENTITY_2.isna().value_counts()"
   ]
  },
  {
   "cell_type": "code",
   "execution_count": null,
   "id": "72d3bb41-ec0f-4718-9b0a-a2eb64e2daca",
   "metadata": {},
   "outputs": [],
   "source": [
    "data.SECONDARY_ENTITY_3.isna().value_counts()"
   ]
  },
  {
   "cell_type": "code",
   "execution_count": null,
   "id": "02889c54-d70b-4649-8f75-5f396fb01ca8",
   "metadata": {},
   "outputs": [],
   "source": [
    "data.SECONDARY_ENTITY_4.isna().value_counts()"
   ]
  },
  {
   "cell_type": "code",
   "execution_count": null,
   "id": "6c572b80-41ac-4e58-855a-16d9810f170a",
   "metadata": {},
   "outputs": [],
   "source": [
    "data.SECONDARY_ENTITY_10.isna().value_counts()"
   ]
  },
  {
   "cell_type": "markdown",
   "id": "c3a0f6c1-2a37-4481-8f74-0a5b41c3e00e",
   "metadata": {
    "tags": []
   },
   "source": [
    "#### So, we conclude to take SECONDARY_ENTITY_1 as selected features"
   ]
  },
  {
   "cell_type": "markdown",
   "id": "215cb43e-9d7b-400f-ad2d-362109aaf5ba",
   "metadata": {},
   "source": [
    "Converting DateTime"
   ]
  },
  {
   "cell_type": "code",
   "execution_count": null,
   "id": "53b2b7f7-87ee-49d2-a05f-23d231538ce0",
   "metadata": {},
   "outputs": [],
   "source": [
    "data.PERIOD_OF_EMPLOYMENT_END_DATE = pd.to_datetime(data.PERIOD_OF_EMPLOYMENT_END_DATE).dt.year\n",
    "data.PERIOD_OF_EMPLOYMENT_START_DATE = pd.to_datetime(data.PERIOD_OF_EMPLOYMENT_START_DATE).dt.year"
   ]
  },
  {
   "cell_type": "code",
   "execution_count": null,
   "id": "e9e59740-d73a-4fdd-8538-40a2733d9406",
   "metadata": {},
   "outputs": [],
   "source": [
    "data.groupby(by='CASE_STATUS').PERIOD_OF_EMPLOYMENT_START_DATE.value_counts().unstack().plot(kind='bar')\n",
    "plt.show()"
   ]
  },
  {
   "cell_type": "markdown",
   "id": "31440c24-8940-4d48-b3bc-95653e1e30a9",
   "metadata": {},
   "source": [
    "We can see that most of the applicants were certified in 2019."
   ]
  },
  {
   "cell_type": "code",
   "execution_count": null,
   "id": "457ab6e2-6457-4eeb-b3cf-37ab83d82a50",
   "metadata": {},
   "outputs": [],
   "source": [
    "matplotlib.rcParams[\"figure.figsize\"] = [6.4, 4.8]\n",
    "fig = plt.figure(figsize=(12,7))\n",
    "fig = sns.violinplot(y=data.drop(data.TOTAL_WORKER_POSITIONS.idxmax()).TOTAL_WORKER_POSITIONS,x=data.CASE_STATUS)\n",
    "plt.show()"
   ]
  },
  {
   "cell_type": "markdown",
   "id": "f918ae14-8ba9-4612-94ee-edc6eca188c9",
   "metadata": {},
   "source": [
    "By looking this violinplot we can see that there are large number of outliers in the datasets."
   ]
  },
  {
   "cell_type": "code",
   "execution_count": null,
   "id": "d5b76c0b-d461-4ea4-bdb6-81d8638109a5",
   "metadata": {},
   "outputs": [],
   "source": [
    "fig = plt.figure(figsize=(12,7))\n",
    "fig = sns.scatterplot(x=data.CHANGE_EMPLOYER,y=data.TOTAL_WORKER_POSITIONS,hue=data.CASE_STATUS)\n",
    "plt.show()"
   ]
  },
  {
   "cell_type": "markdown",
   "id": "3784d5e4-b861-409a-b3a8-40bbb0954368",
   "metadata": {},
   "source": [
    "we can see linear relationship here too."
   ]
  },
  {
   "cell_type": "code",
   "execution_count": null,
   "id": "0979ac35-783a-41b8-8831-95916b1545d1",
   "metadata": {},
   "outputs": [],
   "source": [
    "fig = plt.figure(figsize=(12,7))\n",
    "fig = sns.regplot(x='AMENDED_PETITION',y='CHANGE_PREVIOUS_EMPLOYMENT',data=data)\n",
    "plt.show()"
   ]
  },
  {
   "cell_type": "code",
   "execution_count": null,
   "id": "7f4731d4-4be1-49b0-a659-7011711a9b76",
   "metadata": {},
   "outputs": [],
   "source": [
    "agent_vs_status = data.groupby(by='CASE_STATUS').AGENT_REPRESENTING_EMPLOYER.value_counts()\n",
    "agent_vs_status.unstack().plot(kind='bar',figsize=(12,7))\n",
    "plt.title('AGENT_REPRESENTING_EMPLOYER vs CASE_STATUS')\n",
    "# ax.bar_label(ax.containers[1])\n",
    "# ax.bar_label(ax.containers[0])\n",
    "plt.show()"
   ]
  },
  {
   "cell_type": "code",
   "execution_count": null,
   "id": "3c8b40ca-280b-4010-86a1-d17a5ad5cb45",
   "metadata": {},
   "outputs": [],
   "source": [
    "job_title_10 = data.groupby(by='JOB_TITLE').size().sort_values(ascending=False)[:10]\n",
    "fig = plt.figure()\n",
    "fig = sns.barplot(x=job_title_10,y=job_title_10.index)\n",
    "ax.bar_label\n",
    "plt.show()"
   ]
  },
  {
   "cell_type": "markdown",
   "id": "81bfa60a-2d30-4eda-9771-2386f8199ea7",
   "metadata": {},
   "source": [
    "Software Developer and Software Engineer are the most demanded jobs concluded from this analysis."
   ]
  },
  {
   "cell_type": "code",
   "execution_count": null,
   "id": "a2b1dde8-1007-49ae-908c-9e07a217ee5d",
   "metadata": {},
   "outputs": [],
   "source": [
    "case_job = data.groupby(by='JOB_TITLE').CASE_STATUS.value_counts().sort_values(ascending=False).unstack()\n",
    "case_job[case_job.DENIED.notnull()].DENIED.sort_values(ascending=False)[:20]"
   ]
  },
  {
   "cell_type": "code",
   "execution_count": null,
   "id": "cd2d319c-2b20-416c-baf9-4e0c0df19170",
   "metadata": {},
   "outputs": [],
   "source": [
    "data.CASE_SUBMITTED = pd.to_datetime(data.CASE_SUBMITTED)\n",
    "data.DECISION_DATE = pd.to_datetime(data.DECISION_DATE)\n",
    "data.ORIGINAL_CERT_DATE = pd.to_datetime(data.ORIGINAL_CERT_DATE)\n",
    "data.PERIOD_OF_EMPLOYMENT_START_DATE = pd.to_datetime(data.PERIOD_OF_EMPLOYMENT_START_DATE)\n",
    "data.PERIOD_OF_EMPLOYMENT_END_DATE = pd.to_datetime(data.PERIOD_OF_EMPLOYMENT_END_DATE)"
   ]
  },
  {
   "cell_type": "code",
   "execution_count": null,
   "id": "0b98096a-b5c9-42a6-b6b5-05200815b52b",
   "metadata": {},
   "outputs": [],
   "source": [
    "selected_columns = [\n",
    "    'CASE_STATUS','VISA_CLASS','FULL_TIME_POSITION','SECONDARY_ENTITY_1', 'AGENT_REPRESENTING_EMPLOYER', 'TOTAL_WORKER_POSITIONS',\n",
    "    'NEW_EMPLOYMENT', 'CONTINUED_EMPLOYMENT', 'CHANGE_PREVIOUS_EMPLOYMENT', 'NEW_CONCURRENT_EMPLOYMENT',\n",
    "    'CHANGE_EMPLOYER', 'AMENDED_PETITION','H-1B_DEPENDENT','WILLFUL_VIOLATOR','WAGE_RATE_OF_PAY_FROM_1',\n",
    "    'WAGE_RATE_OF_PAY_TO_1','WAGE_UNIT_OF_PAY_1','PREVAILING_WAGE_1'\n",
    "    ]"
   ]
  },
  {
   "cell_type": "code",
   "execution_count": null,
   "id": "c45e8eed-d4a2-4291-90f4-12fe26159c3f",
   "metadata": {},
   "outputs": [],
   "source": [
    "data_final = data[selected_columns].copy()\n",
    "data_final.describe()"
   ]
  },
  {
   "cell_type": "code",
   "execution_count": null,
   "id": "de481a61-7c4c-4d01-8eeb-765e2d5b0732",
   "metadata": {},
   "outputs": [],
   "source": [
    "def quantile_outlier_check(dataframe,columns=None):\n",
    "    '''\n",
    "    Returns the index of outlier columns.\n",
    "    '''\n",
    "    dataframe = dataframe.select_dtypes(exclude=['object','datetime'])\n",
    "    if columns == None:\n",
    "        columns = dataframe.columns.to_list()\n",
    "    Q1 = dataframe.quantile(0.25)\n",
    "    Q3 = dataframe.quantile(0.75)\n",
    "    IQR = Q3 - Q1\n",
    "    lower_limit = Q1 - 1.5*IQR\n",
    "    upper_limit = Q3 + 1.5*IQR\n",
    "    outlier_INDEX = set()\n",
    "    for column in columns:\n",
    "        outlier_INDEX.update(dataframe[(dataframe[column]<lower_limit[column]) | (dataframe[column]>upper_limit[column])].index.to_list())\n",
    "    return outlier_INDEX"
   ]
  },
  {
   "cell_type": "code",
   "execution_count": null,
   "id": "61ea9e62-df49-41c1-82cd-609379817eca",
   "metadata": {},
   "outputs": [],
   "source": [
    "outlier = quantile_outlier_check(data_final,['TOTAL_WORKER_POSITIONS','CHANGE_PREVIOUS_EMPLOYMENT'])\n",
    "len(outlier)"
   ]
  },
  {
   "cell_type": "markdown",
   "id": "e6e259e5-e117-4618-8af4-f2ad76754b4d",
   "metadata": {},
   "source": [
    "#### So, We find out outliers in the data"
   ]
  },
  {
   "cell_type": "code",
   "execution_count": null,
   "id": "15f64d92-280a-4c39-9741-f70218b73e17",
   "metadata": {
    "tags": []
   },
   "outputs": [],
   "source": [
    "data_final.drop(outlier,inplace=True)\n",
    "data.shape"
   ]
  },
  {
   "cell_type": "code",
   "execution_count": null,
   "id": "2eaceb72-182d-44f8-925b-a4fe1dd2ac11",
   "metadata": {},
   "outputs": [],
   "source": [
    "def Status(row):\n",
    "    if row['CASE_STATUS'] == 'CERTIFIED':\n",
    "        return 1\n",
    "    else:\n",
    "        return 0\n",
    "    \n",
    "data_final['CASE_STATUS'] = data_final.apply(lambda rw: Status(rw),axis=1)"
   ]
  },
  {
   "cell_type": "code",
   "execution_count": null,
   "id": "200dfd06-55ad-4402-ab84-4b094d6bdee3",
   "metadata": {},
   "outputs": [],
   "source": [
    "# Function that check correlation coefficient with given threshold and return the set of corelated columns\n",
    "tmp_data = data_final.select_dtypes(exclude=['datetime','object']).copy()\n",
    "def corr_columns(data,threshold):\n",
    "    temp = set()\n",
    "    coef_corr = data.corr()\n",
    "    for i in range(len(data.columns)):\n",
    "        for j in range(i):\n",
    "            if abs(coef_corr.iloc[i,j]) > threshold:\n",
    "                temp.add(coef_corr.columns[i])\n",
    "    return temp\n",
    "\n",
    "# Checking the correlated columns and droping them\n",
    "correlated_col = corr_columns(tmp_data,0.7)\n",
    "correlated_col"
   ]
  },
  {
   "cell_type": "code",
   "execution_count": null,
   "id": "559896ed-20db-4ca3-a946-8344de286c91",
   "metadata": {},
   "outputs": [],
   "source": [
    "data_final.shape"
   ]
  },
  {
   "cell_type": "code",
   "execution_count": null,
   "id": "c638b95a-aa60-48b4-a64e-764bfb5ed8d5",
   "metadata": {},
   "outputs": [],
   "source": [
    "data_final.drop_duplicates(keep='first',inplace=True)"
   ]
  },
  {
   "cell_type": "code",
   "execution_count": null,
   "id": "bac8c269-d807-457d-83c9-1367507402e9",
   "metadata": {},
   "outputs": [],
   "source": [
    "data_final.shape"
   ]
  },
  {
   "cell_type": "code",
   "execution_count": null,
   "id": "caee9730-ce33-48c5-839f-9f2227618905",
   "metadata": {},
   "outputs": [],
   "source": [
    "YN_col = ['FULL_TIME_POSITION','SECONDARY_ENTITY_1','AGENT_REPRESENTING_EMPLOYER','H-1B_DEPENDENT','WILLFUL_VIOLATOR']\n",
    "for col in YN_col:\n",
    "    data[col] = data[col].map({'Y':1,'N':0},na_action='ignore')\n",
    "\n",
    "data.NEW_EMPLOYMENT = pd.to_numeric(data.NEW_EMPLOYMENT,errors='coerce')\n",
    "data.CONTINUED_EMPLOYMENT = pd.to_numeric(data.CONTINUED_EMPLOYMENT,errors='coerce')\n",
    "\n",
    "data_final.reset_index(drop=True, inplace = True)"
   ]
  },
  {
   "cell_type": "code",
   "execution_count": null,
   "id": "9d855d00-c242-422e-ab75-9505f97fe66e",
   "metadata": {},
   "outputs": [],
   "source": [
    "data_final.drop(correlated_col,axis=1)\n",
    "data_final.to_csv('Final_updated_data.csv',index=False)"
   ]
  },
  {
   "cell_type": "code",
   "execution_count": null,
   "id": "ef9b65f8",
   "metadata": {},
   "outputs": [],
   "source": [
    "data_final"
   ]
  }
 ],
 "metadata": {
  "kernelspec": {
   "display_name": "Python 3 (ipykernel)",
   "language": "python",
   "name": "python3"
  },
  "language_info": {
   "codemirror_mode": {
    "name": "ipython",
    "version": 3
   },
   "file_extension": ".py",
   "mimetype": "text/x-python",
   "name": "python",
   "nbconvert_exporter": "python",
   "pygments_lexer": "ipython3",
   "version": "3.9.12"
  }
 },
 "nbformat": 4,
 "nbformat_minor": 5
}
